{
 "cells": [
  {
   "cell_type": "code",
   "execution_count": null,
   "metadata": {},
   "outputs": [],
   "source": [
    "import pandas as pd\n",
    "import numpy as np\n",
    "import matplotlib.pyplot as plt\n",
    "import seaborn as sns\n",
    "\n",
    "# Load the dataset\n",
    "housing_data = pd.read_csv('Bengaluru_Housing_Dataset.csv')\n",
    "\n",
    "# Overview of the dataset\n",
    "print(housing_data.head())\n",
    "\n",
    "# Summary statistics\n",
    "print(housing_data.describe())\n",
    "\n",
    "# Check for missing values\n",
    "print(housing_data.isnull().sum())\n",
    "\n",
    "# Visualize the distribution of the target variable (price)\n",
    "sns.histplot(housing_data['price'], kde=True)\n",
    "plt.title('Distribution of Housing Prices')\n",
    "plt.show()\n",
    "\n",
    "# Explore the relationship between features and the target variable\n",
    "plt.figure(figsize=(12, 6))\n",
    "sns.scatterplot(x='total_sqft', y='price', data=housing_data)\n",
    "plt.title('Total Sqft vs Price')\n",
    "plt.show()\n"
   ]
  },
  {
   "cell_type": "code",
   "execution_count": null,
   "metadata": {},
   "outputs": [],
   "source": [
    "# Handle missing values\n",
    "housing_data = housing_data.dropna()\n",
    "\n",
    "# Extract meaningful features from 'total_sqft'\n",
    "housing_data['total_sqft'] = housing_data['total_sqft'].apply(lambda x: eval(x.replace('Sq. Meter', '').replace('Sq. Yards', '').replace('Perch', '').replace('Acres', '').replace('Cents', '').replace('Guntha', '').replace('Grounds', '').replace('sqft', '').replace('BHK', '').replace(' Bedroom', '').replace(',', '')))\n",
    "\n",
    "# Feature scaling\n",
    "from sklearn.preprocessing import MinMaxScaler\n",
    "scaler = MinMaxScaler()\n",
    "numeric_features = ['total_sqft', 'bath', 'balcony', 'price']\n",
    "housing_data[numeric_features] = scaler.fit_transform(housing_data[numeric_features])\n",
    "\n",
    "# Convert categorical features to numerical using one-hot encoding\n",
    "categorical_features = ['location', 'availability', 'size', 'society']\n",
    "housing_data = pd.get_dummies(housing_data, columns=categorical_features)"
   ]
  }
 ],
 "metadata": {
  "language_info": {
   "name": "python"
  }
 },
 "nbformat": 4,
 "nbformat_minor": 2
}
